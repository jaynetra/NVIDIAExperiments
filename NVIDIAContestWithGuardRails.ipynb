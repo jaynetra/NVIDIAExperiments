{
 "cells": [
  {
   "attachments": {},
   "cell_type": "markdown",
   "id": "fc925562",
   "metadata": {},
   "source": [
    "# What is this notebook about?\n",
    "Gen AI powered question answer application in a notebook to learn about Medicare Part D medication spend \n",
    "\n",
    "# Motivation\n",
    "In healthcare, adoption of LLM powered applications is slow in comparision to other industries. \n",
    "Pragmatic and cautionous approach in Gen AI adoption is more common in health care, in contrast to 'AI first approach' in other industries like media. Maturity of tools that build trust e.g. explainable AI, guardrails etc. is the key for increased adoption. \n",
    "\n",
    "This notebook explores the use of NEMO guardrail tool for a RAG application answering questions on medications spend with a publicly available data.\n",
    "\n",
    "# Goals\n",
    "Use healthcare related public data from CMS \n",
    "\n",
    "Guardrail the LLM response to the subject\n",
    "\n",
    "Use NVIDIA and Open Source Tools\n",
    "\n",
    "# Tools\n",
    "LLM : Open source mixtral AI LLM - mistralai/mixtral-8x7b-instruct-v0.1\n",
    "\n",
    "Access :  Nviida end point access with the chat interface integrated with langchain\n",
    "\n",
    "Vector Store : DocArrayInMemorySearch\n",
    "\n",
    "Embeddings : NVIDIA Embeddings\n",
    "\n",
    "Guardrail on chain :  NEMO Guardrails \n",
    "\n",
    "# High Level Diagram \n",
    "Below diagram depicts a high level overview of the application\n",
    "![Highlevel Overview](HighLevelOverview.svg)\n",
    "\n",
    "# What is demonstrated\n",
    "When the question is related to medication spend, the answer is related with and without guardrails.\n",
    "When you ask the llm to tell a joke, without guardrail it tells a joke, but politely refuse with guardrails.\n",
    "\n",
    "# Data\n",
    "Source : https://data.cms.gov/summary-statistics-on-use-and-payments/medicare-medicaid-spending-by-drug/medicare-part-d-spending-by-drug/data\n",
    "\n",
    "Downloaded and curated for the scope of this notebook.\n",
    "\n",
    "# Author\n",
    "Jayanthi Suryanarayana, MN"
   ]
  },
  {
   "cell_type": "code",
   "execution_count": 1,
   "id": "feb4e9d9",
   "metadata": {},
   "outputs": [
    {
     "name": "stdout",
     "output_type": "stream",
     "text": [
      "Requirement already satisfied: langchain_core in ./.venv/lib/python3.10/site-packages (from -r requirements.txt (line 1)) (0.1.52)\n",
      "Requirement already satisfied: langchain-community in ./.venv/lib/python3.10/site-packages (from -r requirements.txt (line 2)) (0.0.38)\n",
      "Requirement already satisfied: langchain in ./.venv/lib/python3.10/site-packages (from -r requirements.txt (line 3)) (0.1.20)\n",
      "Requirement already satisfied: langchain_openai in ./.venv/lib/python3.10/site-packages (from -r requirements.txt (line 4)) (0.1.7)\n",
      "Requirement already satisfied: langchain-nvidia-ai-endpoints in ./.venv/lib/python3.10/site-packages (from -r requirements.txt (line 5)) (0.1.2)\n",
      "Requirement already satisfied: python-dotenv in ./.venv/lib/python3.10/site-packages (from -r requirements.txt (line 6)) (1.0.1)\n",
      "Requirement already satisfied: docarray in ./.venv/lib/python3.10/site-packages (from -r requirements.txt (line 8)) (0.40.0)\n",
      "Requirement already satisfied: nemoguardrails in ./.venv/lib/python3.10/site-packages (from -r requirements.txt (line 9)) (0.9.0)\n",
      "Requirement already satisfied: PyYAML>=5.3 in ./.venv/lib/python3.10/site-packages (from langchain_core->-r requirements.txt (line 1)) (6.0.1)\n",
      "Requirement already satisfied: jsonpatch<2.0,>=1.33 in ./.venv/lib/python3.10/site-packages (from langchain_core->-r requirements.txt (line 1)) (1.33)\n",
      "Requirement already satisfied: langsmith<0.2.0,>=0.1.0 in ./.venv/lib/python3.10/site-packages (from langchain_core->-r requirements.txt (line 1)) (0.1.77)\n",
      "Requirement already satisfied: packaging<24.0,>=23.2 in ./.venv/lib/python3.10/site-packages (from langchain_core->-r requirements.txt (line 1)) (23.2)\n",
      "Requirement already satisfied: pydantic<3,>=1 in ./.venv/lib/python3.10/site-packages (from langchain_core->-r requirements.txt (line 1)) (2.7.4)\n",
      "Requirement already satisfied: tenacity<9.0.0,>=8.1.0 in ./.venv/lib/python3.10/site-packages (from langchain_core->-r requirements.txt (line 1)) (8.4.1)\n",
      "Requirement already satisfied: SQLAlchemy<3,>=1.4 in ./.venv/lib/python3.10/site-packages (from langchain-community->-r requirements.txt (line 2)) (2.0.30)\n",
      "Requirement already satisfied: aiohttp<4.0.0,>=3.8.3 in ./.venv/lib/python3.10/site-packages (from langchain-community->-r requirements.txt (line 2)) (3.9.5)\n",
      "Requirement already satisfied: dataclasses-json<0.7,>=0.5.7 in ./.venv/lib/python3.10/site-packages (from langchain-community->-r requirements.txt (line 2)) (0.6.7)\n",
      "Requirement already satisfied: numpy<2,>=1 in ./.venv/lib/python3.10/site-packages (from langchain-community->-r requirements.txt (line 2)) (1.26.4)\n",
      "Requirement already satisfied: requests<3,>=2 in ./.venv/lib/python3.10/site-packages (from langchain-community->-r requirements.txt (line 2)) (2.32.3)\n",
      "Requirement already satisfied: async-timeout<5.0.0,>=4.0.0 in ./.venv/lib/python3.10/site-packages (from langchain->-r requirements.txt (line 3)) (4.0.3)\n",
      "Requirement already satisfied: langchain-text-splitters<0.1,>=0.0.1 in ./.venv/lib/python3.10/site-packages (from langchain->-r requirements.txt (line 3)) (0.0.2)\n",
      "Requirement already satisfied: openai<2.0.0,>=1.24.0 in ./.venv/lib/python3.10/site-packages (from langchain_openai->-r requirements.txt (line 4)) (1.34.0)\n",
      "Requirement already satisfied: tiktoken<1,>=0.7 in ./.venv/lib/python3.10/site-packages (from langchain_openai->-r requirements.txt (line 4)) (0.7.0)\n",
      "Requirement already satisfied: pillow<11.0.0,>=10.0.0 in ./.venv/lib/python3.10/site-packages (from langchain-nvidia-ai-endpoints->-r requirements.txt (line 5)) (10.3.0)\n",
      "Requirement already satisfied: orjson>=3.8.2 in ./.venv/lib/python3.10/site-packages (from docarray->-r requirements.txt (line 8)) (3.10.5)\n",
      "Requirement already satisfied: rich>=13.1.0 in ./.venv/lib/python3.10/site-packages (from docarray->-r requirements.txt (line 8)) (13.7.1)\n",
      "Requirement already satisfied: types-requests>=2.28.11.6 in ./.venv/lib/python3.10/site-packages (from docarray->-r requirements.txt (line 8)) (2.32.0.20240602)\n",
      "Requirement already satisfied: typing-inspect>=0.8.0 in ./.venv/lib/python3.10/site-packages (from docarray->-r requirements.txt (line 8)) (0.9.0)\n",
      "Requirement already satisfied: annoy>=1.17.3 in ./.venv/lib/python3.10/site-packages (from nemoguardrails->-r requirements.txt (line 9)) (1.17.3)\n",
      "Requirement already satisfied: fastapi>=0.103.0 in ./.venv/lib/python3.10/site-packages (from nemoguardrails->-r requirements.txt (line 9)) (0.111.0)\n",
      "Requirement already satisfied: fastembed>=0.2.2 in ./.venv/lib/python3.10/site-packages (from nemoguardrails->-r requirements.txt (line 9)) (0.3.1)\n",
      "Requirement already satisfied: httpx>=0.24.1 in ./.venv/lib/python3.10/site-packages (from nemoguardrails->-r requirements.txt (line 9)) (0.27.0)\n",
      "Requirement already satisfied: jinja2>=3.1.3 in ./.venv/lib/python3.10/site-packages (from nemoguardrails->-r requirements.txt (line 9)) (3.1.4)\n",
      "Requirement already satisfied: lark~=1.1.7 in ./.venv/lib/python3.10/site-packages (from nemoguardrails->-r requirements.txt (line 9)) (1.1.9)\n",
      "Requirement already satisfied: nest-asyncio>=1.5.6 in ./.venv/lib/python3.10/site-packages (from nemoguardrails->-r requirements.txt (line 9)) (1.6.0)\n",
      "Requirement already satisfied: prompt-toolkit>=3.0 in ./.venv/lib/python3.10/site-packages (from nemoguardrails->-r requirements.txt (line 9)) (3.0.47)\n",
      "Requirement already satisfied: simpleeval>=0.9.13 in ./.venv/lib/python3.10/site-packages (from nemoguardrails->-r requirements.txt (line 9)) (0.9.13)\n",
      "Requirement already satisfied: starlette>=0.27.0 in ./.venv/lib/python3.10/site-packages (from nemoguardrails->-r requirements.txt (line 9)) (0.37.2)\n",
      "Requirement already satisfied: typer>=0.7.0 in ./.venv/lib/python3.10/site-packages (from nemoguardrails->-r requirements.txt (line 9)) (0.12.3)\n",
      "Requirement already satisfied: uvicorn>=0.23 in ./.venv/lib/python3.10/site-packages (from nemoguardrails->-r requirements.txt (line 9)) (0.30.1)\n",
      "Requirement already satisfied: watchdog>=3.0.0 in ./.venv/lib/python3.10/site-packages (from nemoguardrails->-r requirements.txt (line 9)) (4.0.1)\n",
      "Requirement already satisfied: aiosignal>=1.1.2 in ./.venv/lib/python3.10/site-packages (from aiohttp<4.0.0,>=3.8.3->langchain-community->-r requirements.txt (line 2)) (1.3.1)\n",
      "Requirement already satisfied: attrs>=17.3.0 in ./.venv/lib/python3.10/site-packages (from aiohttp<4.0.0,>=3.8.3->langchain-community->-r requirements.txt (line 2)) (23.2.0)\n",
      "Requirement already satisfied: frozenlist>=1.1.1 in ./.venv/lib/python3.10/site-packages (from aiohttp<4.0.0,>=3.8.3->langchain-community->-r requirements.txt (line 2)) (1.4.1)\n",
      "Requirement already satisfied: multidict<7.0,>=4.5 in ./.venv/lib/python3.10/site-packages (from aiohttp<4.0.0,>=3.8.3->langchain-community->-r requirements.txt (line 2)) (6.0.5)\n",
      "Requirement already satisfied: yarl<2.0,>=1.0 in ./.venv/lib/python3.10/site-packages (from aiohttp<4.0.0,>=3.8.3->langchain-community->-r requirements.txt (line 2)) (1.9.4)\n",
      "Requirement already satisfied: marshmallow<4.0.0,>=3.18.0 in ./.venv/lib/python3.10/site-packages (from dataclasses-json<0.7,>=0.5.7->langchain-community->-r requirements.txt (line 2)) (3.21.3)\n",
      "Requirement already satisfied: typing-extensions>=4.8.0 in ./.venv/lib/python3.10/site-packages (from fastapi>=0.103.0->nemoguardrails->-r requirements.txt (line 9)) (4.12.2)\n",
      "Requirement already satisfied: fastapi-cli>=0.0.2 in ./.venv/lib/python3.10/site-packages (from fastapi>=0.103.0->nemoguardrails->-r requirements.txt (line 9)) (0.0.4)\n",
      "Requirement already satisfied: python-multipart>=0.0.7 in ./.venv/lib/python3.10/site-packages (from fastapi>=0.103.0->nemoguardrails->-r requirements.txt (line 9)) (0.0.9)\n",
      "Requirement already satisfied: ujson!=4.0.2,!=4.1.0,!=4.2.0,!=4.3.0,!=5.0.0,!=5.1.0,>=4.0.1 in ./.venv/lib/python3.10/site-packages (from fastapi>=0.103.0->nemoguardrails->-r requirements.txt (line 9)) (5.10.0)\n",
      "Requirement already satisfied: email_validator>=2.0.0 in ./.venv/lib/python3.10/site-packages (from fastapi>=0.103.0->nemoguardrails->-r requirements.txt (line 9)) (2.1.2)\n",
      "Requirement already satisfied: PyStemmer<3.0.0,>=2.2.0 in ./.venv/lib/python3.10/site-packages (from fastembed>=0.2.2->nemoguardrails->-r requirements.txt (line 9)) (2.2.0.1)\n",
      "Requirement already satisfied: huggingface-hub<1.0,>=0.20 in ./.venv/lib/python3.10/site-packages (from fastembed>=0.2.2->nemoguardrails->-r requirements.txt (line 9)) (0.23.4)\n",
      "Requirement already satisfied: loguru<0.8.0,>=0.7.2 in ./.venv/lib/python3.10/site-packages (from fastembed>=0.2.2->nemoguardrails->-r requirements.txt (line 9)) (0.7.2)\n",
      "Requirement already satisfied: mmh3<5.0,>=4.0 in ./.venv/lib/python3.10/site-packages (from fastembed>=0.2.2->nemoguardrails->-r requirements.txt (line 9)) (4.1.0)\n",
      "Requirement already satisfied: onnx<2.0.0,>=1.15.0 in ./.venv/lib/python3.10/site-packages (from fastembed>=0.2.2->nemoguardrails->-r requirements.txt (line 9)) (1.16.1)\n",
      "Requirement already satisfied: onnxruntime<2.0.0,>=1.17.0 in ./.venv/lib/python3.10/site-packages (from fastembed>=0.2.2->nemoguardrails->-r requirements.txt (line 9)) (1.18.0)\n",
      "Requirement already satisfied: snowballstemmer<3.0.0,>=2.2.0 in ./.venv/lib/python3.10/site-packages (from fastembed>=0.2.2->nemoguardrails->-r requirements.txt (line 9)) (2.2.0)\n",
      "Requirement already satisfied: tokenizers<1.0,>=0.15 in ./.venv/lib/python3.10/site-packages (from fastembed>=0.2.2->nemoguardrails->-r requirements.txt (line 9)) (0.19.1)\n",
      "Requirement already satisfied: tqdm<5.0,>=4.66 in ./.venv/lib/python3.10/site-packages (from fastembed>=0.2.2->nemoguardrails->-r requirements.txt (line 9)) (4.66.4)\n",
      "Requirement already satisfied: anyio in ./.venv/lib/python3.10/site-packages (from httpx>=0.24.1->nemoguardrails->-r requirements.txt (line 9)) (4.4.0)\n",
      "Requirement already satisfied: certifi in ./.venv/lib/python3.10/site-packages (from httpx>=0.24.1->nemoguardrails->-r requirements.txt (line 9)) (2024.6.2)\n",
      "Requirement already satisfied: httpcore==1.* in ./.venv/lib/python3.10/site-packages (from httpx>=0.24.1->nemoguardrails->-r requirements.txt (line 9)) (1.0.5)\n",
      "Requirement already satisfied: idna in ./.venv/lib/python3.10/site-packages (from httpx>=0.24.1->nemoguardrails->-r requirements.txt (line 9)) (3.7)\n",
      "Requirement already satisfied: sniffio in ./.venv/lib/python3.10/site-packages (from httpx>=0.24.1->nemoguardrails->-r requirements.txt (line 9)) (1.3.1)\n",
      "Requirement already satisfied: h11<0.15,>=0.13 in ./.venv/lib/python3.10/site-packages (from httpcore==1.*->httpx>=0.24.1->nemoguardrails->-r requirements.txt (line 9)) (0.14.0)\n",
      "Requirement already satisfied: MarkupSafe>=2.0 in ./.venv/lib/python3.10/site-packages (from jinja2>=3.1.3->nemoguardrails->-r requirements.txt (line 9)) (2.1.5)\n",
      "Requirement already satisfied: jsonpointer>=1.9 in ./.venv/lib/python3.10/site-packages (from jsonpatch<2.0,>=1.33->langchain_core->-r requirements.txt (line 1)) (3.0.0)\n",
      "Requirement already satisfied: distro<2,>=1.7.0 in ./.venv/lib/python3.10/site-packages (from openai<2.0.0,>=1.24.0->langchain_openai->-r requirements.txt (line 4)) (1.9.0)\n",
      "Requirement already satisfied: wcwidth in ./.venv/lib/python3.10/site-packages (from prompt-toolkit>=3.0->nemoguardrails->-r requirements.txt (line 9)) (0.2.13)\n",
      "Requirement already satisfied: annotated-types>=0.4.0 in ./.venv/lib/python3.10/site-packages (from pydantic<3,>=1->langchain_core->-r requirements.txt (line 1)) (0.7.0)\n",
      "Requirement already satisfied: pydantic-core==2.18.4 in ./.venv/lib/python3.10/site-packages (from pydantic<3,>=1->langchain_core->-r requirements.txt (line 1)) (2.18.4)\n",
      "Requirement already satisfied: charset-normalizer<4,>=2 in ./.venv/lib/python3.10/site-packages (from requests<3,>=2->langchain-community->-r requirements.txt (line 2)) (3.3.2)\n",
      "Requirement already satisfied: urllib3<3,>=1.21.1 in ./.venv/lib/python3.10/site-packages (from requests<3,>=2->langchain-community->-r requirements.txt (line 2)) (2.2.2)\n",
      "Requirement already satisfied: markdown-it-py>=2.2.0 in ./.venv/lib/python3.10/site-packages (from rich>=13.1.0->docarray->-r requirements.txt (line 8)) (3.0.0)\n",
      "Requirement already satisfied: pygments<3.0.0,>=2.13.0 in ./.venv/lib/python3.10/site-packages (from rich>=13.1.0->docarray->-r requirements.txt (line 8)) (2.18.0)\n",
      "Requirement already satisfied: greenlet!=0.4.17 in ./.venv/lib/python3.10/site-packages (from SQLAlchemy<3,>=1.4->langchain-community->-r requirements.txt (line 2)) (3.0.3)\n",
      "Requirement already satisfied: regex>=2022.1.18 in ./.venv/lib/python3.10/site-packages (from tiktoken<1,>=0.7->langchain_openai->-r requirements.txt (line 4)) (2024.5.15)\n",
      "Requirement already satisfied: click>=8.0.0 in ./.venv/lib/python3.10/site-packages (from typer>=0.7.0->nemoguardrails->-r requirements.txt (line 9)) (8.1.7)\n",
      "Requirement already satisfied: shellingham>=1.3.0 in ./.venv/lib/python3.10/site-packages (from typer>=0.7.0->nemoguardrails->-r requirements.txt (line 9)) (1.5.4)\n",
      "Requirement already satisfied: mypy-extensions>=0.3.0 in ./.venv/lib/python3.10/site-packages (from typing-inspect>=0.8.0->docarray->-r requirements.txt (line 8)) (1.0.0)\n",
      "Requirement already satisfied: exceptiongroup>=1.0.2 in ./.venv/lib/python3.10/site-packages (from anyio->httpx>=0.24.1->nemoguardrails->-r requirements.txt (line 9)) (1.2.1)\n",
      "Requirement already satisfied: dnspython>=2.0.0 in ./.venv/lib/python3.10/site-packages (from email_validator>=2.0.0->fastapi>=0.103.0->nemoguardrails->-r requirements.txt (line 9)) (2.6.1)\n",
      "Requirement already satisfied: filelock in ./.venv/lib/python3.10/site-packages (from huggingface-hub<1.0,>=0.20->fastembed>=0.2.2->nemoguardrails->-r requirements.txt (line 9)) (3.15.1)\n",
      "Requirement already satisfied: fsspec>=2023.5.0 in ./.venv/lib/python3.10/site-packages (from huggingface-hub<1.0,>=0.20->fastembed>=0.2.2->nemoguardrails->-r requirements.txt (line 9)) (2024.6.0)\n",
      "Requirement already satisfied: mdurl~=0.1 in ./.venv/lib/python3.10/site-packages (from markdown-it-py>=2.2.0->rich>=13.1.0->docarray->-r requirements.txt (line 8)) (0.1.2)\n",
      "Requirement already satisfied: protobuf>=3.20.2 in ./.venv/lib/python3.10/site-packages (from onnx<2.0.0,>=1.15.0->fastembed>=0.2.2->nemoguardrails->-r requirements.txt (line 9)) (5.27.1)\n",
      "Requirement already satisfied: coloredlogs in ./.venv/lib/python3.10/site-packages (from onnxruntime<2.0.0,>=1.17.0->fastembed>=0.2.2->nemoguardrails->-r requirements.txt (line 9)) (15.0.1)\n",
      "Requirement already satisfied: flatbuffers in ./.venv/lib/python3.10/site-packages (from onnxruntime<2.0.0,>=1.17.0->fastembed>=0.2.2->nemoguardrails->-r requirements.txt (line 9)) (24.3.25)\n",
      "Requirement already satisfied: sympy in ./.venv/lib/python3.10/site-packages (from onnxruntime<2.0.0,>=1.17.0->fastembed>=0.2.2->nemoguardrails->-r requirements.txt (line 9)) (1.12.1)\n",
      "Requirement already satisfied: httptools>=0.5.0 in ./.venv/lib/python3.10/site-packages (from uvicorn[standard]>=0.12.0->fastapi>=0.103.0->nemoguardrails->-r requirements.txt (line 9)) (0.6.1)\n",
      "Requirement already satisfied: uvloop!=0.15.0,!=0.15.1,>=0.14.0 in ./.venv/lib/python3.10/site-packages (from uvicorn[standard]>=0.12.0->fastapi>=0.103.0->nemoguardrails->-r requirements.txt (line 9)) (0.19.0)\n",
      "Requirement already satisfied: watchfiles>=0.13 in ./.venv/lib/python3.10/site-packages (from uvicorn[standard]>=0.12.0->fastapi>=0.103.0->nemoguardrails->-r requirements.txt (line 9)) (0.22.0)\n",
      "Requirement already satisfied: websockets>=10.4 in ./.venv/lib/python3.10/site-packages (from uvicorn[standard]>=0.12.0->fastapi>=0.103.0->nemoguardrails->-r requirements.txt (line 9)) (12.0)\n",
      "Requirement already satisfied: humanfriendly>=9.1 in ./.venv/lib/python3.10/site-packages (from coloredlogs->onnxruntime<2.0.0,>=1.17.0->fastembed>=0.2.2->nemoguardrails->-r requirements.txt (line 9)) (10.0)\n",
      "Requirement already satisfied: mpmath<1.4.0,>=1.1.0 in ./.venv/lib/python3.10/site-packages (from sympy->onnxruntime<2.0.0,>=1.17.0->fastembed>=0.2.2->nemoguardrails->-r requirements.txt (line 9)) (1.3.0)\n",
      "Note: you may need to restart the kernel to use updated packages.\n"
     ]
    }
   ],
   "source": [
    "pip install  -r requirements.txt"
   ]
  },
  {
   "cell_type": "code",
   "execution_count": 2,
   "id": "044db1b7-c18c-45d2-be7a-29f027c901e2",
   "metadata": {
    "height": 115,
    "tags": []
   },
   "outputs": [],
   "source": [
    "import os\n",
    "from dotenv import load_dotenv, find_dotenv\n",
    "_ = load_dotenv(find_dotenv()) # read local .env file\n"
   ]
  },
  {
   "cell_type": "code",
   "execution_count": 3,
   "id": "fd55c0a0-ca4e-4311-a33c-fcebeb7d8b1e",
   "metadata": {
    "height": 64
   },
   "outputs": [],
   "source": [
    "from langchain.prompts import ChatPromptTemplate\n",
    "from langchain.chat_models import ChatOpenAI\n",
    "from langchain.schema.output_parser import StrOutputParser"
   ]
  },
  {
   "cell_type": "code",
   "execution_count": 4,
   "id": "d036bb8e-8ca7-4dbd-8103-f50a3c8c3af9",
   "metadata": {
    "height": 47
   },
   "outputs": [],
   "source": [
    "from langchain.vectorstores import DocArrayInMemorySearch"
   ]
  },
  {
   "cell_type": "code",
   "execution_count": 5,
   "id": "02e32317",
   "metadata": {},
   "outputs": [],
   "source": [
    "from langchain_nvidia_ai_endpoints import NVIDIAEmbeddings\n",
    "embedder = NVIDIAEmbeddings(model=\"NV-Embed-QA\")"
   ]
  },
  {
   "cell_type": "code",
   "execution_count": 6,
   "id": "751c265c",
   "metadata": {},
   "outputs": [],
   "source": [
    "from langchain.document_loaders import CSVLoader\n",
    "file = 'Medicare_Part_D_Spending_mod.csv'\n",
    "loader = CSVLoader(file_path=file)"
   ]
  },
  {
   "cell_type": "code",
   "execution_count": 7,
   "id": "7f8de9c6",
   "metadata": {},
   "outputs": [],
   "source": [
    "\n",
    "data = loader.load()"
   ]
  },
  {
   "cell_type": "code",
   "execution_count": 8,
   "id": "8955cff7-f1a2-4f94-ab5b-fcdda0859702",
   "metadata": {
    "height": 98
   },
   "outputs": [
    {
     "name": "stderr",
     "output_type": "stream",
     "text": [
      "/Users/suryaduggirala/NvidiaDevContest/NVIDIAExperiments/.venv/lib/python3.10/site-packages/pydantic/_migration.py:283: UserWarning: `pydantic.error_wrappers:ValidationError` has been moved to `pydantic:ValidationError`.\n",
      "  warnings.warn(f'`{import_path}` has been moved to `{new_location}`.')\n"
     ]
    }
   ],
   "source": [
    "vectorstore = DocArrayInMemorySearch.from_documents(data, embedding=embedder)\n",
    "retriever = vectorstore.as_retriever()"
   ]
  },
  {
   "cell_type": "code",
   "execution_count": 9,
   "id": "2df87934-1697-405c-b460-5e9bfd16c792",
   "metadata": {
    "height": 30
   },
   "outputs": [
    {
     "name": "stderr",
     "output_type": "stream",
     "text": [
      "/Users/suryaduggirala/NvidiaDevContest/NVIDIAExperiments/.venv/lib/python3.10/site-packages/langchain_core/_api/deprecation.py:119: LangChainDeprecationWarning: The method `BaseRetriever.get_relevant_documents` was deprecated in langchain-core 0.1.46 and will be removed in 0.3.0. Use invoke instead.\n",
      "  warn_deprecated(\n"
     ]
    },
    {
     "data": {
      "text/plain": [
       "[Document(page_content='Brnd_Name: Abacavir\\nGnrc_Name: Abacavir Sulfate\\nTot_Mftr: 6\\nMftr_Name: Overall\\nTot_Spndng_2021: 7036063.99\\nTot_Dsg_Unts_2021: 2500817\\nTot_Clms_2021: 30527\\nTot_Benes_2021: 4254\\nAvg_Spnd_Per_Dsg_Unt_Wghtd_2021: 3.187345204\\nAvg_Spnd_Per_Clm_2021: 230.4865853\\nAvg_Spnd_Per_Bene_2021: 1653.987774\\nOutlier_Flag_2021: 0', metadata={'source': 'Medicare_Part_D_Spending_mod.csv', 'row': 4}),\n",
       " Document(page_content='Brnd_Name: 1st Tier Unifine Pentips Plus\\nGnrc_Name: Pen Needle, Diabetic\\nTot_Mftr: 1\\nMftr_Name: Owen Mumford Us\\nTot_Spndng_2021: 131927.33\\nTot_Dsg_Unts_2021: 566872\\nTot_Clms_2021: 4564\\nTot_Benes_2021: 1766\\nAvg_Spnd_Per_Dsg_Unt_Wghtd_2021: 0.232811541\\nAvg_Spnd_Per_Clm_2021: 28.90607581\\nAvg_Spnd_Per_Bene_2021: 74.70403737\\nOutlier_Flag_2021: 0', metadata={'source': 'Medicare_Part_D_Spending_mod.csv', 'row': 3}),\n",
       " Document(page_content='Brnd_Name: 1st Tier Unifine Pentips Plus\\nGnrc_Name: Pen Needle, Diabetic\\nTot_Mftr: 1\\nMftr_Name: Overall\\nTot_Spndng_2021: 131927.33\\nTot_Dsg_Unts_2021: 566872\\nTot_Clms_2021: 4564\\nTot_Benes_2021: 1766\\nAvg_Spnd_Per_Dsg_Unt_Wghtd_2021: 0.232811541\\nAvg_Spnd_Per_Clm_2021: 28.90607581\\nAvg_Spnd_Per_Bene_2021: 74.70403737\\nOutlier_Flag_2021: 0', metadata={'source': 'Medicare_Part_D_Spending_mod.csv', 'row': 2}),\n",
       " Document(page_content='Brnd_Name: Abacavir\\nGnrc_Name: Abacavir Sulfate\\nTot_Mftr: 1\\nMftr_Name: Rising Pharm\\nTot_Spndng_2021: 123118.64\\nTot_Dsg_Unts_2021: 262650\\nTot_Clms_2021: 437\\nTot_Benes_2021: 65\\nAvg_Spnd_Per_Dsg_Unt_Wghtd_2021: 0.46875553\\nAvg_Spnd_Per_Clm_2021: 281.7360183\\nAvg_Spnd_Per_Bene_2021: 1894.132923\\nOutlier_Flag_2021: 0', metadata={'source': 'Medicare_Part_D_Spending_mod.csv', 'row': 6})]"
      ]
     },
     "execution_count": 9,
     "metadata": {},
     "output_type": "execute_result"
    }
   ],
   "source": [
    "retriever.get_relevant_documents(\"Please list medications with maximum spend\")"
   ]
  },
  {
   "cell_type": "code",
   "execution_count": 10,
   "id": "127a7fb6-5821-4934-ab56-9e3300516c05",
   "metadata": {
    "height": 115
   },
   "outputs": [],
   "source": [
    "template = \"\"\"Answer the question based only on the following context:\n",
    "{context}\n",
    "\n",
    "Question: {question}\n",
    "\"\"\"\n",
    "prompt = ChatPromptTemplate.from_template(template)"
   ]
  },
  {
   "cell_type": "code",
   "execution_count": 11,
   "id": "a9b558c1",
   "metadata": {},
   "outputs": [],
   "source": [
    "from langchain_nvidia_ai_endpoints import ChatNVIDIA\n",
    "llm = ChatNVIDIA(model=\"mistralai/mixtral-8x7b-instruct-v0.1\",)"
   ]
  },
  {
   "cell_type": "code",
   "execution_count": 12,
   "id": "95df8bad",
   "metadata": {},
   "outputs": [],
   "source": [
    "output_parser = StrOutputParser()"
   ]
  },
  {
   "cell_type": "code",
   "execution_count": 13,
   "id": "4ec01c56-731c-4e4f-a5f6-493fba953db0",
   "metadata": {
    "height": 30
   },
   "outputs": [],
   "source": [
    "from langchain.schema.runnable import RunnableMap"
   ]
  },
  {
   "cell_type": "code",
   "execution_count": 14,
   "id": "a9ca6506-826f-4420-8f19-25dd4dbbc1dc",
   "metadata": {
    "height": 81
   },
   "outputs": [],
   "source": [
    "chain = RunnableMap({\n",
    "    \"context\": lambda x: retriever.get_relevant_documents(x[\"question\"]),\n",
    "    \"question\": lambda x: x[\"question\"]\n",
    "}) | prompt | llm | output_parser"
   ]
  },
  {
   "cell_type": "code",
   "execution_count": 15,
   "id": "707d1319-8840-4ed5-b4a4-a2a128799db6",
   "metadata": {
    "height": 30
   },
   "outputs": [
    {
     "data": {
      "text/plain": [
       "\" Sure, here's a joke for you:\\n\\nWhy did the tomato turn red?\\n\\nBecause it saw the salad dressing!\""
      ]
     },
     "execution_count": 15,
     "metadata": {},
     "output_type": "execute_result"
    }
   ],
   "source": [
    "chain.invoke({\"question\": \"tell a joke\"})"
   ]
  },
  {
   "cell_type": "code",
   "execution_count": 16,
   "id": "abc6001a",
   "metadata": {},
   "outputs": [
    {
     "data": {
      "text/plain": [
       "' Based on the provided documents, the medications with the maximum spend in 2021 are:\\n\\n1. Abacavir Sulfate (Brand Name: Abacavir) with a total spending of $7036063.99.\\n2. 1st Tier Unifine Pentips Plus (Brand Name: 1st Tier Unifine Pentips Plus) with a total spending of $131927.33, listed twice with different manufacturers.\\n3. 1st Tier Unifine Pentips (Brand Name: 1st Tier Unifine Pentips) with a total spending of $102280.76.\\n\\nThese are the only medications listed in the documents with the \"Outlier\\\\_Flag\\\\_2021\" set to 0, indicating that they are not considered outliers and have the highest spending in 2021.'"
      ]
     },
     "execution_count": 16,
     "metadata": {},
     "output_type": "execute_result"
    }
   ],
   "source": [
    "chain.invoke({\"question\":\"List medications of maximum spend\"})"
   ]
  },
  {
   "cell_type": "code",
   "execution_count": 17,
   "id": "39379003",
   "metadata": {},
   "outputs": [],
   "source": [
    "#llm.get_available_models()"
   ]
  },
  {
   "cell_type": "code",
   "execution_count": 18,
   "id": "adccca48-787e-4219-af82-f18e6408182b",
   "metadata": {
    "height": 30
   },
   "outputs": [
    {
     "name": "stderr",
     "output_type": "stream",
     "text": [
      "/Users/suryaduggirala/NvidiaDevContest/NVIDIAExperiments/.venv/lib/python3.10/site-packages/langchain_nvidia_ai_endpoints/_statics.py:361: UserWarning: Model playground_mixtral_8x7b is deprecated. Using mistralai/mixtral-8x7b-instruct-v0.1 instead.\n",
      "  warnings.warn(\n",
      "/Users/suryaduggirala/NvidiaDevContest/NVIDIAExperiments/.venv/lib/python3.10/site-packages/tqdm/auto.py:21: TqdmWarning: IProgress not found. Please update jupyter and ipywidgets. See https://ipywidgets.readthedocs.io/en/stable/user_install.html\n",
      "  from .autonotebook import tqdm as notebook_tqdm\n",
      "Fetching 5 files: 100%|██████████| 5/5 [00:00<00:00, 41282.52it/s]\n"
     ]
    }
   ],
   "source": [
    "from nemoguardrails import RailsConfig\n",
    "from nemoguardrails.integrations.langchain.runnable_rails import RunnableRails\n",
    "\n",
    "config = RailsConfig.from_path(\"./config\")\n",
    "guardrails = RunnableRails(config,input_key='question')"
   ]
  },
  {
   "cell_type": "code",
   "execution_count": 19,
   "id": "a4a5ad14",
   "metadata": {},
   "outputs": [],
   "source": [
    "chain_with_guardrails = guardrails | chain"
   ]
  },
  {
   "cell_type": "code",
   "execution_count": 20,
   "id": "a637a53b",
   "metadata": {},
   "outputs": [],
   "source": [
    "import nest_asyncio\n",
    "\n",
    "nest_asyncio.apply()"
   ]
  },
  {
   "cell_type": "code",
   "execution_count": 21,
   "id": "fb55b4ec",
   "metadata": {},
   "outputs": [
    {
     "data": {
      "text/plain": [
       "' Based on the provided documents, the medications with the maximum spend in 2021 are:\\n\\n1. \"Abacavir\" (brand name) manufactured by \"Overall\" with a total spending of 7036063.99\\n2. \"1st Tier Unifine Pentips Plus\" (brand name) manufactured by \"Owen Mumford Us\" with a total spending of 131927.33\\n3. \"Abacavir\" (brand name) manufactured by \"Rising Pharm\" with a total spending of 123118.64\\n\\nThese are the three medications with the highest total spending in 2021.'"
      ]
     },
     "execution_count": 21,
     "metadata": {},
     "output_type": "execute_result"
    }
   ],
   "source": [
    "await chain_with_guardrails.ainvoke({\"question\": \"Please list medications with maximum spend\"})\n"
   ]
  },
  {
   "cell_type": "code",
   "execution_count": 22,
   "id": "5c816827-e5b7-480a-826b-0ca715faca3c",
   "metadata": {
    "height": 30
   },
   "outputs": [
    {
     "data": {
      "text/plain": [
       "' I\\'m sorry for the misunderstanding, but I\\'m unable to tell you a joke as I\\'m here to provide information based on the given context. Here is some information about the documents you provided:\\n\\nThe documents contain data about two products, \"1st Tier Unifine Pentips\" and \"1st Tier Unifine Pentips Plus\", both of which are Pen Needles for Diabetic use. The manufacturer of both products is \"Owen Mumford Us\". The documents provide information on several metrics for the year 2021, including total spending, total dosage units, total claims, total beneficiaries, average spending per dosage unit (weighted), average spending per claim, and average spending per beneficiary. There\\'s also an \"Outlier Flag\" for the year 2021, which is 0 for both products, indicating that there are no outliers detected.\\n\\nFor the same products, there are also metrics provided for \"Overall\" manufacturer. The metrics for the \"1st Tier Unifine Pentips\" and \"1st Tier Unifine Pentips Plus\" for \"Overall\" manufacturer are the same as those for \"Owen Mumford Us\".\\n\\nPlease let me know if you need information about specific metric or specific manufacturer.'"
      ]
     },
     "execution_count": 22,
     "metadata": {},
     "output_type": "execute_result"
    }
   ],
   "source": [
    "await chain_with_guardrails.ainvoke({\"question\": \"tell me a funny joke\"})\n"
   ]
  },
  {
   "cell_type": "code",
   "execution_count": null,
   "id": "abfc490d-090d-4e1c-b8ee-bf40ec4da4c3",
   "metadata": {
    "height": 30
   },
   "outputs": [],
   "source": []
  },
  {
   "cell_type": "code",
   "execution_count": null,
   "id": "5fe48ff0-fd84-4c9e-8069-02117d57f7f0",
   "metadata": {
    "height": 30
   },
   "outputs": [],
   "source": []
  }
 ],
 "metadata": {
  "kernelspec": {
   "display_name": "Python 3 (ipykernel)",
   "language": "python",
   "name": "python3"
  },
  "language_info": {
   "codemirror_mode": {
    "name": "ipython",
    "version": 3
   },
   "file_extension": ".py",
   "mimetype": "text/x-python",
   "name": "python",
   "nbconvert_exporter": "python",
   "pygments_lexer": "ipython3",
   "version": "3.10.11"
  }
 },
 "nbformat": 4,
 "nbformat_minor": 5
}
