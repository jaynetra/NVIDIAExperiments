{
 "cells": [
  {
   "attachments": {},
   "cell_type": "markdown",
   "id": "fc925562",
   "metadata": {},
   "source": [
    "# What is this notebook about?\n",
    "Gen AI powered question answer application in a notebook to learn about Medicare Part D medication spend \n",
    "\n",
    "# Motivation\n",
    "In healthcare, adoption of LLM powered applications is slow in comparision to other industries. \n",
    "Pragmatic and cautionous approach in Gen AI adoption is more common in health care, in contrast to 'AI first approach' in other industries like media. Maturity of tools that build trust e.g. explainable AI, guardrails etc. is the key for increased adoption. \n",
    "\n",
    "This notebook explores the use of NEMO guardrail tool for a RAG application answering questions on medications spend with a publicly available data.\n",
    "\n",
    "# Goals\n",
    "Use healthcare related public data from CMS \n",
    "\n",
    "Guardrail the LLM response to the subject\n",
    "\n",
    "Use NVIDIA and Open Source Tools\n",
    "\n",
    "# Tools\n",
    "LLM : Open source mixtral AI LLM - mistralai/mixtral-8x7b-instruct-v0.1\n",
    "\n",
    "Access :  Nviida end point access with the chat interface integrated with langchain\n",
    "\n",
    "Vector Store : DocArrayInMemorySearch\n",
    "\n",
    "Embeddings : NVIDIA Embeddings\n",
    "\n",
    "Guardrail on chain :  NEMO Guardrails \n",
    "\n",
    "# High Level Diagram \n",
    "Below diagram depicts a high level overview of the application\n",
    "![Highlevel Overview](HighLevelOverview.svg)\n",
    "\n",
    "# What is demonstrated\n",
    "When the question is related to medication spend, the answer is related with and without guardrails.\n",
    "When you ask the llm to tell a joke, without guardrail it tells a joke, but politely refuse with guardrails.\n",
    "\n",
    "# Data\n",
    "Source : https://data.cms.gov/summary-statistics-on-use-and-payments/medicare-medicaid-spending-by-drug/medicare-part-d-spending-by-drug/data\n",
    "\n",
    "Downloaded and curated for the scope of this notebook.\n",
    "\n",
    "# Author\n",
    "Jayanthi Suryanarayana, MN"
   ]
  },
  {
   "cell_type": "code",
   "execution_count": null,
   "id": "feb4e9d9",
   "metadata": {},
   "outputs": [],
   "source": [
    "pip install  -r requirements.txt"
   ]
  },
  {
   "cell_type": "code",
   "execution_count": null,
   "id": "044db1b7-c18c-45d2-be7a-29f027c901e2",
   "metadata": {
    "height": 115,
    "tags": []
   },
   "outputs": [],
   "source": [
    "import os\n",
    "from dotenv import load_dotenv, find_dotenv\n",
    "_ = load_dotenv(find_dotenv()) # read local .env file\n"
   ]
  },
  {
   "cell_type": "code",
   "execution_count": null,
   "id": "fd55c0a0-ca4e-4311-a33c-fcebeb7d8b1e",
   "metadata": {
    "height": 64
   },
   "outputs": [],
   "source": [
    "from langchain.prompts import ChatPromptTemplate\n",
    "from langchain.chat_models import ChatOpenAI\n",
    "from langchain.schema.output_parser import StrOutputParser"
   ]
  },
  {
   "cell_type": "code",
   "execution_count": null,
   "id": "d036bb8e-8ca7-4dbd-8103-f50a3c8c3af9",
   "metadata": {
    "height": 47
   },
   "outputs": [],
   "source": [
    "from langchain.vectorstores import DocArrayInMemorySearch"
   ]
  },
  {
   "cell_type": "code",
   "execution_count": null,
   "id": "02e32317",
   "metadata": {},
   "outputs": [],
   "source": [
    "from langchain_nvidia_ai_endpoints import NVIDIAEmbeddings\n",
    "embedder = NVIDIAEmbeddings(model=\"NV-Embed-QA\")"
   ]
  },
  {
   "cell_type": "code",
   "execution_count": null,
   "id": "751c265c",
   "metadata": {},
   "outputs": [],
   "source": [
    "from langchain.document_loaders import CSVLoader\n",
    "file = 'Medicare_Part_D_Spending_mod.csv'\n",
    "loader = CSVLoader(file_path=file)"
   ]
  },
  {
   "cell_type": "code",
   "execution_count": null,
   "id": "7f8de9c6",
   "metadata": {},
   "outputs": [],
   "source": [
    "\n",
    "data = loader.load()"
   ]
  },
  {
   "cell_type": "code",
   "execution_count": null,
   "id": "8955cff7-f1a2-4f94-ab5b-fcdda0859702",
   "metadata": {
    "height": 98
   },
   "outputs": [],
   "source": [
    "vectorstore = DocArrayInMemorySearch.from_documents(data, embedding=embedder)\n",
    "retriever = vectorstore.as_retriever()"
   ]
  },
  {
   "cell_type": "code",
   "execution_count": null,
   "id": "2df87934-1697-405c-b460-5e9bfd16c792",
   "metadata": {
    "height": 30
   },
   "outputs": [],
   "source": [
    "retriever.get_relevant_documents(\"Please list medications with maximum spend\")"
   ]
  },
  {
   "cell_type": "code",
   "execution_count": null,
   "id": "127a7fb6-5821-4934-ab56-9e3300516c05",
   "metadata": {
    "height": 115
   },
   "outputs": [],
   "source": [
    "template = \"\"\"Answer the question based only on the following context:\n",
    "{context}\n",
    "\n",
    "Question: {question}\n",
    "\"\"\"\n",
    "prompt = ChatPromptTemplate.from_template(template)"
   ]
  },
  {
   "cell_type": "code",
   "execution_count": null,
   "id": "a9b558c1",
   "metadata": {},
   "outputs": [],
   "source": [
    "from langchain_nvidia_ai_endpoints import ChatNVIDIA\n",
    "llm = ChatNVIDIA(model=\"mistralai/mixtral-8x7b-instruct-v0.1\",)"
   ]
  },
  {
   "cell_type": "code",
   "execution_count": null,
   "id": "95df8bad",
   "metadata": {},
   "outputs": [],
   "source": [
    "output_parser = StrOutputParser()"
   ]
  },
  {
   "cell_type": "code",
   "execution_count": null,
   "id": "4ec01c56-731c-4e4f-a5f6-493fba953db0",
   "metadata": {
    "height": 30
   },
   "outputs": [],
   "source": [
    "from langchain.schema.runnable import RunnableMap"
   ]
  },
  {
   "cell_type": "code",
   "execution_count": null,
   "id": "a9ca6506-826f-4420-8f19-25dd4dbbc1dc",
   "metadata": {
    "height": 81
   },
   "outputs": [],
   "source": [
    "chain = RunnableMap({\n",
    "    \"context\": lambda x: retriever.get_relevant_documents(x[\"question\"]),\n",
    "    \"question\": lambda x: x[\"question\"]\n",
    "}) | prompt | llm | output_parser"
   ]
  },
  {
   "cell_type": "code",
   "execution_count": null,
   "id": "707d1319-8840-4ed5-b4a4-a2a128799db6",
   "metadata": {
    "height": 30
   },
   "outputs": [],
   "source": [
    "chain.invoke({\"question\": \"tell a joke\"})"
   ]
  },
  {
   "cell_type": "code",
   "execution_count": null,
   "id": "abc6001a",
   "metadata": {},
   "outputs": [],
   "source": [
    "chain.invoke({\"question\":\"List medications of maximum spend\"})"
   ]
  },
  {
   "cell_type": "code",
   "execution_count": null,
   "id": "39379003",
   "metadata": {},
   "outputs": [],
   "source": [
    "#llm.get_available_models()"
   ]
  },
  {
   "cell_type": "code",
   "execution_count": null,
   "id": "adccca48-787e-4219-af82-f18e6408182b",
   "metadata": {
    "height": 30
   },
   "outputs": [],
   "source": [
    "from nemoguardrails import RailsConfig\n",
    "from nemoguardrails.integrations.langchain.runnable_rails import RunnableRails\n",
    "\n",
    "config = RailsConfig.from_path(\"./config\")\n",
    "guardrails = RunnableRails(config,input_key='question')"
   ]
  },
  {
   "cell_type": "code",
   "execution_count": null,
   "id": "a4a5ad14",
   "metadata": {},
   "outputs": [],
   "source": [
    "chain_with_guardrails = guardrails | chain"
   ]
  },
  {
   "cell_type": "code",
   "execution_count": null,
   "id": "a637a53b",
   "metadata": {},
   "outputs": [],
   "source": [
    "import nest_asyncio\n",
    "\n",
    "nest_asyncio.apply()"
   ]
  },
  {
   "cell_type": "code",
   "execution_count": null,
   "id": "fb55b4ec",
   "metadata": {},
   "outputs": [],
   "source": [
    "await chain_with_guardrails.ainvoke({\"question\": \"Please list medications with maximum spend\"})\n"
   ]
  },
  {
   "cell_type": "code",
   "execution_count": null,
   "id": "5c816827-e5b7-480a-826b-0ca715faca3c",
   "metadata": {
    "height": 30
   },
   "outputs": [],
   "source": [
    "await chain_with_guardrails.ainvoke({\"question\": \"tell me a funny joke\"})\n"
   ]
  },
  {
   "cell_type": "code",
   "execution_count": null,
   "id": "abfc490d-090d-4e1c-b8ee-bf40ec4da4c3",
   "metadata": {
    "height": 30
   },
   "outputs": [],
   "source": []
  },
  {
   "cell_type": "code",
   "execution_count": null,
   "id": "5fe48ff0-fd84-4c9e-8069-02117d57f7f0",
   "metadata": {
    "height": 30
   },
   "outputs": [],
   "source": []
  }
 ],
 "metadata": {
  "kernelspec": {
   "display_name": "Python 3 (ipykernel)",
   "language": "python",
   "name": "python3"
  },
  "language_info": {
   "codemirror_mode": {
    "name": "ipython",
    "version": 3
   },
   "file_extension": ".py",
   "mimetype": "text/x-python",
   "name": "python",
   "nbconvert_exporter": "python",
   "pygments_lexer": "ipython3",
   "version": "3.10.11"
  }
 },
 "nbformat": 4,
 "nbformat_minor": 5
}
